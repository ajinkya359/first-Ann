{
 "cells": [
  {
   "cell_type": "code",
   "execution_count": 1,
   "metadata": {},
   "outputs": [
    {
     "name": "stdout",
     "output_type": "stream",
     "text": [
      "Collecting tensorflow\n",
      "\u001b[?25l  Downloading https://files.pythonhosted.org/packages/1d/56/0dbdae2a3c527a119bec0d5cf441655fe030ce1daa6fa6b9542f7dbd8664/tensorflow-2.1.0-cp37-cp37m-manylinux2010_x86_64.whl (421.8MB)\n",
      "\u001b[K     |                                | 768kB 25kB/s eta 4:35:51^C\n",
      "\n",
      "\u001b[31mERROR: Operation cancelled by user\u001b[0m\n",
      "\u001b[?25hNote: you may need to restart the kernel to use updated packages.\n"
     ]
    }
   ],
   "source": [
    "pip install tensorflow"
   ]
  },
  {
   "cell_type": "code",
   "execution_count": 1,
   "metadata": {},
   "outputs": [
    {
     "name": "stdout",
     "output_type": "stream",
     "text": [
      "Collecting THeano\n",
      "\u001b[?25l  Downloading https://files.pythonhosted.org/packages/7d/c4/6341148ad458b6cd8361b774d7ee6895c38eab88f05331f22304c484ed5d/Theano-1.0.4.tar.gz (2.8MB)\n",
      "\u001b[K     |████████████████████████████████| 2.8MB 105kB/s eta 0:00:01\n",
      "\u001b[?25hRequirement already satisfied: numpy>=1.9.1 in /home/ajinkya/anaconda3/lib/python3.7/site-packages (from THeano) (1.17.2)\n",
      "Requirement already satisfied: scipy>=0.14 in /home/ajinkya/anaconda3/lib/python3.7/site-packages (from THeano) (1.3.1)\n",
      "Requirement already satisfied: six>=1.9.0 in /home/ajinkya/anaconda3/lib/python3.7/site-packages (from THeano) (1.12.0)\n",
      "Building wheels for collected packages: THeano\n",
      "  Building wheel for THeano (setup.py) ... \u001b[?25ldone\n",
      "\u001b[?25h  Created wheel for THeano: filename=Theano-1.0.4-cp37-none-any.whl size=2667178 sha256=bfbc81a54f72521fbe296d5597c484fa8d2893479c59cf3ed9ad34fe88cf66f8\n",
      "  Stored in directory: /home/ajinkya/.cache/pip/wheels/88/fb/be/483910ff7e9f703f30a10605ad7605f3316493875c86637014\n",
      "Successfully built THeano\n",
      "Installing collected packages: THeano\n",
      "Successfully installed THeano-1.0.4\n",
      "Note: you may need to restart the kernel to use updated packages.\n"
     ]
    }
   ],
   "source": [
    "pip install THeano\n"
   ]
  },
  {
   "cell_type": "code",
   "execution_count": 2,
   "metadata": {},
   "outputs": [],
   "source": [
    "import theano"
   ]
  },
  {
   "cell_type": "code",
   "execution_count": null,
   "metadata": {},
   "outputs": [],
   "source": []
  }
 ],
 "metadata": {
  "kernelspec": {
   "display_name": "Python 3",
   "language": "python",
   "name": "python3"
  },
  "language_info": {
   "codemirror_mode": {
    "name": "ipython",
    "version": 3
   },
   "file_extension": ".py",
   "mimetype": "text/x-python",
   "name": "python",
   "nbconvert_exporter": "python",
   "pygments_lexer": "ipython3",
   "version": "3.7.4"
  }
 },
 "nbformat": 4,
 "nbformat_minor": 2
}
